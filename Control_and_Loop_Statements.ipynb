{
  "nbformat": 4,
  "nbformat_minor": 0,
  "metadata": {
    "colab": {
      "name": "Control and Loop Statements.ipynb",
      "provenance": [],
      "authorship_tag": "ABX9TyPDG7uJ/P+wo/JebAMyv0zi",
      "include_colab_link": true
    },
    "kernelspec": {
      "name": "python3",
      "display_name": "Python 3"
    },
    "language_info": {
      "name": "python"
    }
  },
  "cells": [
    {
      "cell_type": "markdown",
      "metadata": {
        "id": "view-in-github",
        "colab_type": "text"
      },
      "source": [
        "<a href=\"https://colab.research.google.com/github/SeanLaurea/Numerical-Methods-58012/blob/main/Control_and_Loop_Statements.ipynb\" target=\"_parent\"><img src=\"https://colab.research.google.com/assets/colab-badge.svg\" alt=\"Open In Colab\"/></a>"
      ]
    },
    {
      "cell_type": "markdown",
      "source": [
        "##If Statement"
      ],
      "metadata": {
        "id": "jJEcD-4dqkRZ"
      }
    },
    {
      "cell_type": "code",
      "execution_count": 9,
      "metadata": {
        "id": "Ud3sCIcVqge-"
      },
      "outputs": [],
      "source": [
        "a = 100\n",
        "b = 12\n",
        "\n",
        "if b>a:\n",
        "  print(\"b is greater than a\")"
      ]
    },
    {
      "cell_type": "markdown",
      "source": [
        "##If.. Elif Statement"
      ],
      "metadata": {
        "id": "d43_QjN3qsnH"
      }
    },
    {
      "cell_type": "code",
      "source": [
        "a = 100\n",
        "b = 100\n",
        "\n",
        "if b>a:\n",
        "  print(\"b is greather than a\")\n",
        "elif a==b:\n",
        "  print(\"a and b are equal\")"
      ],
      "metadata": {
        "colab": {
          "base_uri": "https://localhost:8080/"
        },
        "id": "TGskDaz1qw2v",
        "outputId": "a9e85869-8a98-42a9-84e5-1598b7f56923"
      },
      "execution_count": 8,
      "outputs": [
        {
          "output_type": "stream",
          "name": "stdout",
          "text": [
            "a and b are equal\n"
          ]
        }
      ]
    },
    {
      "cell_type": "markdown",
      "source": [
        "##Else Statement"
      ],
      "metadata": {
        "id": "jJL24y0Krcdv"
      }
    },
    {
      "cell_type": "code",
      "source": [
        "if b>a:\n",
        "  print(\"b greater than a\")\n",
        "elif a==b:\n",
        "  print(\"a and b are equal\")\n",
        "else:\n",
        "  print(\"a is greater than b\")\n"
      ],
      "metadata": {
        "colab": {
          "base_uri": "https://localhost:8080/"
        },
        "id": "JEMD88ZMrc8Y",
        "outputId": "68d97316-9be4-4573-9969-d75127605913"
      },
      "execution_count": 11,
      "outputs": [
        {
          "output_type": "stream",
          "name": "stdout",
          "text": [
            "a is greater than b\n"
          ]
        }
      ]
    },
    {
      "cell_type": "markdown",
      "source": [
        "##Short Hand If Statement"
      ],
      "metadata": {
        "id": "L_icQbZ9rupe"
      }
    },
    {
      "cell_type": "code",
      "source": [
        "if a>b: print(\"a greater than b\")"
      ],
      "metadata": {
        "colab": {
          "base_uri": "https://localhost:8080/"
        },
        "id": "8jsrnuHArtkX",
        "outputId": "cc64289e-91b6-4d61-e959-71387ed07b36"
      },
      "execution_count": 12,
      "outputs": [
        {
          "output_type": "stream",
          "name": "stdout",
          "text": [
            "a greater than b\n"
          ]
        }
      ]
    },
    {
      "cell_type": "markdown",
      "source": [
        "##Short Hand If.. Else Statement"
      ],
      "metadata": {
        "id": "Vdf5WJTQr4W-"
      }
    },
    {
      "cell_type": "code",
      "source": [
        "print(\"b is greater than a\") if b>a else print(\"a is greater than b\")"
      ],
      "metadata": {
        "colab": {
          "base_uri": "https://localhost:8080/"
        },
        "id": "NvekKccZr7iv",
        "outputId": "34da610e-f040-4952-ac3f-180df2bde19c"
      },
      "execution_count": 13,
      "outputs": [
        {
          "output_type": "stream",
          "name": "stdout",
          "text": [
            "a is greater than b\n"
          ]
        }
      ]
    },
    {
      "cell_type": "markdown",
      "source": [
        "##And - if both conditions are true"
      ],
      "metadata": {
        "id": "BQ0_WQ60sQ9Y"
      }
    },
    {
      "cell_type": "code",
      "source": [
        "a = 100\n",
        "b = 10\n",
        "c = 45\n",
        "\n",
        "if a>b and c>b:\n",
        "  print(\"Both conditions are true\")"
      ],
      "metadata": {
        "colab": {
          "base_uri": "https://localhost:8080/"
        },
        "id": "GK7zy4wasVh_",
        "outputId": "d516e3ea-a039-40ab-e4f8-90cb80b73f76"
      },
      "execution_count": 14,
      "outputs": [
        {
          "output_type": "stream",
          "name": "stdout",
          "text": [
            "Both conditions are true\n"
          ]
        }
      ]
    },
    {
      "cell_type": "markdown",
      "source": [
        "##Or - if one of the conditions is true"
      ],
      "metadata": {
        "id": "6SkVD4Vtstp_"
      }
    },
    {
      "cell_type": "code",
      "source": [
        "if a>b or b>c:\n",
        "  print(\"One condition is true\")"
      ],
      "metadata": {
        "colab": {
          "base_uri": "https://localhost:8080/"
        },
        "id": "DZDZ_64Usxr_",
        "outputId": "638c3aea-4487-4b23-e42f-e5d3939be5ec"
      },
      "execution_count": 15,
      "outputs": [
        {
          "output_type": "stream",
          "name": "stdout",
          "text": [
            "One condition is true\n"
          ]
        }
      ]
    },
    {
      "cell_type": "markdown",
      "source": [
        "##Nested If"
      ],
      "metadata": {
        "id": "5FMvY78btX9C"
      }
    },
    {
      "cell_type": "code",
      "source": [
        "x = int(input())\n",
        "\n",
        "if x>10:\n",
        "  print(\"x is above 10\")\n",
        "  if x>20:\n",
        "    print(\"x is above 20\")\n",
        "    if x>30:\n",
        "      print(\"x is above 30\")\n",
        "      if x>40:\n",
        "        print(\"x is above 40\")\n",
        "        if x>50:\n",
        "          print(\"x is above 50\")\n",
        "        else:\n",
        "          print(\"x is below 50\")\n",
        "else:\n",
        "  print(\"x is below 10\")"
      ],
      "metadata": {
        "colab": {
          "base_uri": "https://localhost:8080/"
        },
        "id": "DMTZhxcstYjX",
        "outputId": "61017b55-0c7e-404c-da08-a4e395b876b7"
      },
      "execution_count": 19,
      "outputs": [
        {
          "output_type": "stream",
          "name": "stdout",
          "text": [
            "66\n",
            "x is above 10\n",
            "x is above 20\n",
            "x is above 30\n",
            "x is above 40\n",
            "x is above 50\n"
          ]
        }
      ]
    },
    {
      "cell_type": "markdown",
      "source": [
        "##Application 1"
      ],
      "metadata": {
        "id": "J713VqVEulZ3"
      }
    },
    {
      "cell_type": "code",
      "source": [
        "age = int(input())\n",
        "\n",
        "if age<18:\n",
        "  print(\"you are not qualified to vote\")\n",
        "else:\n",
        "    print(\"you are qualified to vote\")"
      ],
      "metadata": {
        "colab": {
          "base_uri": "https://localhost:8080/"
        },
        "id": "fu3EQBeounGW",
        "outputId": "4730968a-7287-40a4-9cd6-e2032dc4922d"
      },
      "execution_count": 44,
      "outputs": [
        {
          "output_type": "stream",
          "name": "stdout",
          "text": [
            "8\n",
            "you are not qualified to vote\n"
          ]
        }
      ]
    },
    {
      "cell_type": "markdown",
      "source": [
        "##Application 2"
      ],
      "metadata": {
        "id": "GJOPeNNyvSNR"
      }
    },
    {
      "cell_type": "code",
      "source": [
        "x = int(input())\n",
        "if x>0:\n",
        "  print(\"x is a positive number\")\n",
        "elif x==0:\n",
        "  print(\"x is zero\")\n",
        "else:\n",
        "  print(\"x is a negative number\")\n",
        "  "
      ],
      "metadata": {
        "colab": {
          "base_uri": "https://localhost:8080/"
        },
        "id": "OPpdUwQyvVGg",
        "outputId": "b787d3f5-92bf-48dd-be0f-7131b6bc37bc"
      },
      "execution_count": 25,
      "outputs": [
        {
          "output_type": "stream",
          "name": "stdout",
          "text": [
            "-3\n",
            "x is a negative number\n"
          ]
        }
      ]
    },
    {
      "cell_type": "markdown",
      "source": [
        "##Application 3 - Write a program to determine if the grades are:"
      ],
      "metadata": {
        "id": "sssHKdiGv_84"
      }
    },
    {
      "cell_type": "markdown",
      "source": [
        "grade > = 70, Passed\n",
        "grade = 64 to 69 Remedial\n",
        "grade < 64 Failed"
      ],
      "metadata": {
        "id": "kyzzZbekwrHK"
      }
    },
    {
      "cell_type": "code",
      "source": [
        "grade = int(input())\n",
        "\n",
        "if grade>=70:\n",
        "  print(\"Passed.\")\n",
        "elif grade==64 and 68:\n",
        "  print(\"Remedial\")\n",
        "else:\n",
        "  print(\"Failed\")"
      ],
      "metadata": {
        "colab": {
          "base_uri": "https://localhost:8080/"
        },
        "id": "3CIfmoibwCCo",
        "outputId": "0edb3812-4f36-47b2-a2db-253cae75e9f5"
      },
      "execution_count": 47,
      "outputs": [
        {
          "output_type": "stream",
          "name": "stdout",
          "text": [
            "64\n",
            "Remedial\n"
          ]
        }
      ]
    },
    {
      "cell_type": "markdown",
      "source": [
        "##For Loop"
      ],
      "metadata": {
        "id": "fJT5tF2dw8OR"
      }
    },
    {
      "cell_type": "code",
      "source": [
        "week = [\"Sunday\",\"Monday\",\"Tuesday\",\"Wednesday\",\"Thursday\",\"Friday\",\"Saturday\"]\n",
        "\n",
        "for x in week:\n",
        "  print(x)"
      ],
      "metadata": {
        "colab": {
          "base_uri": "https://localhost:8080/"
        },
        "id": "clAdt7Vow91R",
        "outputId": "87858695-2cad-4d44-8ecb-d6fac821b34f"
      },
      "execution_count": 27,
      "outputs": [
        {
          "output_type": "stream",
          "name": "stdout",
          "text": [
            "Sunday\n",
            "Monday\n",
            "Tuesday\n",
            "Wednesday\n",
            "Thursday\n",
            "Friday\n",
            "Saturday\n"
          ]
        }
      ]
    },
    {
      "cell_type": "markdown",
      "source": [
        "##The Break Statement"
      ],
      "metadata": {
        "id": "r9SMEfjCxV5w"
      }
    },
    {
      "cell_type": "code",
      "source": [
        "for x in week:\n",
        "  print(x)\n",
        "  if x==\"Friday\":\n",
        "   break"
      ],
      "metadata": {
        "colab": {
          "base_uri": "https://localhost:8080/"
        },
        "id": "3dVOPSghxYTy",
        "outputId": "ade1b33d-d756-42ce-e84d-739a57c632a6"
      },
      "execution_count": 33,
      "outputs": [
        {
          "output_type": "stream",
          "name": "stdout",
          "text": [
            "Sunday\n",
            "Monday\n",
            "Tuesday\n",
            "Wednesday\n",
            "Thursday\n",
            "Friday\n"
          ]
        }
      ]
    },
    {
      "cell_type": "markdown",
      "source": [
        "##Range() Funtion"
      ],
      "metadata": {
        "id": "D6lzOGVHyXFk"
      }
    },
    {
      "cell_type": "code",
      "source": [
        "for x in range(6):\n",
        "  print(x)\n",
        "for x in range(2,6):\n",
        "  print(x)"
      ],
      "metadata": {
        "colab": {
          "base_uri": "https://localhost:8080/"
        },
        "id": "nN-3YBuoyZDh",
        "outputId": "72a30cb6-e8e0-4477-bc0f-583371b232c2"
      },
      "execution_count": 34,
      "outputs": [
        {
          "output_type": "stream",
          "name": "stdout",
          "text": [
            "0\n",
            "1\n",
            "2\n",
            "3\n",
            "4\n",
            "5\n",
            "2\n",
            "3\n",
            "4\n",
            "5\n"
          ]
        }
      ]
    },
    {
      "cell_type": "code",
      "source": [
        "for x in range(2,6):\n",
        "  print(x)\n"
      ],
      "metadata": {
        "colab": {
          "base_uri": "https://localhost:8080/"
        },
        "id": "FRKE-nBuyjlx",
        "outputId": "5997dfbb-a6f9-456b-fe50-c91f8a047e5c"
      },
      "execution_count": 35,
      "outputs": [
        {
          "output_type": "stream",
          "name": "stdout",
          "text": [
            "2\n",
            "3\n",
            "4\n",
            "5\n"
          ]
        }
      ]
    },
    {
      "cell_type": "markdown",
      "source": [
        "##While Loop"
      ],
      "metadata": {
        "id": "X4XuoE5ZylyZ"
      }
    },
    {
      "cell_type": "code",
      "source": [
        "i = 1\n",
        "\n",
        "while i<6:\n",
        "  print(i)\n",
        "  i+=1 #same as i = i+1"
      ],
      "metadata": {
        "colab": {
          "base_uri": "https://localhost:8080/"
        },
        "id": "5kggCYv3ykE6",
        "outputId": "2f4be3eb-373c-40f8-bf75-c9562d241897"
      },
      "execution_count": 36,
      "outputs": [
        {
          "output_type": "stream",
          "name": "stdout",
          "text": [
            "1\n",
            "2\n",
            "3\n",
            "4\n",
            "5\n"
          ]
        }
      ]
    },
    {
      "cell_type": "markdown",
      "source": [
        "##Continue Statement"
      ],
      "metadata": {
        "id": "VGX5_VBazfDU"
      }
    },
    {
      "cell_type": "code",
      "source": [
        "i = 1\n",
        "while i < 6:\n",
        "  i+=1\n",
        "  if i == 3:\n",
        "    continue\n",
        "  print(i)"
      ],
      "metadata": {
        "colab": {
          "base_uri": "https://localhost:8080/"
        },
        "id": "sfOlE4Xbzhp6",
        "outputId": "c1f33110-ae60-4880-e499-1d9d98e6297f"
      },
      "execution_count": 41,
      "outputs": [
        {
          "output_type": "stream",
          "name": "stdout",
          "text": [
            "2\n",
            "4\n",
            "5\n",
            "6\n"
          ]
        }
      ]
    }
  ]
}